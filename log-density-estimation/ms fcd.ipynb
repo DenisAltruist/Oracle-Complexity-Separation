{
 "cells": [
  {
   "cell_type": "code",
   "execution_count": 1,
   "metadata": {},
   "outputs": [],
   "source": [
    "import numpy as np\n",
    "import time\n",
    "\n",
    "import matplotlib.pyplot as plt\n",
    "%matplotlib inline"
   ]
  },
  {
   "cell_type": "code",
   "execution_count": 2,
   "metadata": {},
   "outputs": [],
   "source": [
    "n = 500\n",
    "p = 1000\n",
    "m = 1"
   ]
  },
  {
   "cell_type": "markdown",
   "metadata": {},
   "source": [
    "$\\sum_{i = 1}^n \\lambda_i = 1,\\quad [e_i]_j \\sim \\mathcal{U}(1, 2)$ for all $j \\in [1, n]$\n",
    "\n",
    "$G^2 = \\sum_{i = 1}^n \\lambda_i e_i e_i^\\top$\n",
    "\n",
    "$L_i = G^2_{i i}$"
   ]
  },
  {
   "cell_type": "code",
   "execution_count": 3,
   "metadata": {},
   "outputs": [],
   "source": [
    "lambda_ = np.random.random(n)\n",
    "lambda_ /= lambda_.sum()\n",
    "\n",
    "e = np.matrix(np.random.random(size=(n, n)) + 1)\n",
    "\n",
    "G_wave = sum([lambda_[i] * e[:,i].dot(e[:,i].T) for i in range(n)])\n",
    "G_wave = np.array(G_wave)\n",
    "\n",
    "Li = np.diag(G_wave)"
   ]
  },
  {
   "cell_type": "code",
   "execution_count": 4,
   "metadata": {},
   "outputs": [],
   "source": [
    "def test_G_correctness(G):\n",
    "    \"\"\"\n",
    "    Test for matrix G generation\n",
    "    \n",
    "    param: G             generated matrix\n",
    "    :return: correctness matrix correctness boolean flag\n",
    "    \"\"\"\n",
    "    \n",
    "    return np.all(G == G.T) and \\\n",
    "           np.linalg.eig(G)[0].min() >= 0 and \\\n",
    "           G_wave.min() >= 0 and \\\n",
    "           G_wave.min() <= 4"
   ]
  },
  {
   "cell_type": "code",
   "execution_count": 5,
   "metadata": {},
   "outputs": [
    {
     "data": {
      "text/plain": [
       "True"
      ]
     },
     "execution_count": 5,
     "metadata": {},
     "output_type": "execute_result"
    }
   ],
   "source": [
    "test_G_correctness(G_wave)"
   ]
  },
  {
   "cell_type": "markdown",
   "metadata": {},
   "source": [
    "$A_{i j} = 0$ or $A_{i j} \\sim \\mathcal{U}(-1, 1)$\n",
    "\n",
    "$\\mathbb{P}[A_{i j} = 0] = 0.99$"
   ]
  },
  {
   "cell_type": "code",
   "execution_count": 6,
   "metadata": {},
   "outputs": [],
   "source": [
    "sparsity = 0.01\n",
    "\n",
    "A = np.zeros(shape=(p, n))\n",
    "A[\n",
    "    np.random.randint(p, size=int(sparsity*(p*n))), \n",
    "    np.random.randint(n, size=int(sparsity*(p*n)))\n",
    "] = np.random.random(int(sparsity*(p*n))) * 2 - 1"
   ]
  },
  {
   "cell_type": "markdown",
   "metadata": {},
   "source": [
    "$f(x) = h(x) + g(x)$\n",
    "\n",
    "$h(x) = \\log\\left(\\sum_{k=1}^p \\exp\\left(\\langle A_k, x \\rangle\\right)\\right)$\n",
    "\n",
    "$g(x) = \\frac{1}{2} \\|G x\\|_2^2$"
   ]
  },
  {
   "cell_type": "code",
   "execution_count": 7,
   "metadata": {},
   "outputs": [],
   "source": [
    "def h(x):\n",
    "    \"\"\"\n",
    "    Log sum exp functional term\n",
    "    \n",
    "    param: x        variable\n",
    "    :return: result functional term value\n",
    "    \"\"\"\n",
    "    \n",
    "    t = np.dot(A, x)\n",
    "    u = t.max()\n",
    "    t -= u\n",
    "    # Log sum exp trick\n",
    "    return u + np.log(np.exp(t).sum())\n",
    "\n",
    "g = lambda x: min(0.5 * np.dot(x, np.dot(G_wave, x)), 1e142)\n",
    "f = lambda x: g(x) + h(x)\n",
    "\n",
    "\n",
    "def grad_h(x):\n",
    "    \"\"\"\n",
    "    Gradient of the log sum exp functional term\n",
    "    \n",
    "    param: x        variable\n",
    "    :return: result gradient of the functional term value\n",
    "    \"\"\"\n",
    "    \n",
    "    s = np.dot(A, x)\n",
    "    b = s.max()\n",
    "    z = np.exp(s - b)\n",
    "    # Exp-normalize trick\n",
    "    return np.dot(A.T, z) / np.dot(np.ones(p), z)\n",
    "\n",
    "\n",
    "def grad_h_stoch(x, i):\n",
    "    \"\"\"\n",
    "    Stochastic gradient of the log sum exp functional term\n",
    "    \n",
    "    param: x        variable\n",
    "    param: i        component\n",
    "    :return: result i-th component of the gradient of the functional term value\n",
    "    \"\"\"\n",
    "    \n",
    "    s = np.dot(A, x_0)\n",
    "    b = s.max()\n",
    "    z = np.exp(s - b)\n",
    "    # Exp-normalize trick\n",
    "    return np.dot(A.T[i], z) / np.dot(np.ones(p), z)\n",
    "\n",
    "grad_g = lambda x: np.dot(G_wave, x)\n",
    "grad_g_stoch = lambda x, i: np.dot(G_wave[i], x)\n",
    "\n",
    "grad_f = lambda x: grad_g(x) + grad_h(x)\n",
    "grad_f_stoch = lambda x, i: grad_g_stoch(x, i) + grad_h_stoch(x, i)"
   ]
  },
  {
   "cell_type": "markdown",
   "metadata": {},
   "source": [
    "$\\varphi_{\\zeta^k, \\zeta^0}(\\zeta) = \\langle \\nabla h(\\zeta^k), \\zeta - \\zeta^k \\rangle + g(\\zeta) + \\frac{L}{2} \\|\\zeta - \\zeta^0\\|_2^2 + \\frac{L_h}{2} \\|\\zeta - \\zeta^k\\|_2^2$"
   ]
  },
  {
   "cell_type": "code",
   "execution_count": 8,
   "metadata": {},
   "outputs": [],
   "source": [
    "def phi(zeta, zeta_k, zeta_0, L_h, L):\n",
    "    \"\"\"\n",
    "    Proximal phi function\n",
    "    \n",
    "    param: zeta   variable\n",
    "    param: zeta_k variable value at the certain iteration of composite method\n",
    "    param: zeta_0 initial variable value for the composite method\n",
    "    param: L_h, L Lipschitz constants\n",
    "    \n",
    "    :return: result \n",
    "    \"\"\"\n",
    "    \n",
    "    return np.dot(grad_h(zeta_k), zeta - zeta_k) + g(zeta) + \\\n",
    "           0.5 * L_h * np.linalg.norm(zeta - zeta_k)**2 + \\\n",
    "           0.5 * L * np.linalg.norm(zeta - zeta_0)**2\n",
    "\n",
    "\n",
    "def grad_phi(zeta, zeta_k, zeta_0, L_h, L):\n",
    "    \"\"\"\n",
    "    Gradient of the proximal phi function\n",
    "    \n",
    "    param: zeta   variable\n",
    "    param: zeta_k variable value at the certain iteration of composite method\n",
    "    param: zeta_0 initial variable value for the composite method\n",
    "    param: L_h, L Lipschitz constants\n",
    "    \n",
    "    :return: result \n",
    "    \"\"\"\n",
    "    \n",
    "    return grad_h(zeta_k) + grad_g(zeta) + \\\n",
    "           L_h * (zeta - zeta_k) + \\\n",
    "           L * (zeta - zeta_0)\n",
    "\n",
    "\n",
    "def grad_phi_stoch(zeta, zeta_k, zeta_0, L_h, L, i):\n",
    "    \"\"\"\n",
    "    Gradient of the proximal phi function\n",
    "    \n",
    "    param: zeta   variable\n",
    "    param: zeta_k variable value at the certain iteration of composite method\n",
    "    param: zeta_0 initial variable value for the composite method\n",
    "    param: L_h, L Lipschitz constants\n",
    "    param: i      component\n",
    "    \n",
    "    :return: result \n",
    "    \"\"\"\n",
    "    \n",
    "    return grad_h_stoch(zeta_k, i) + grad_g_stoch(zeta, i) + \\\n",
    "           L_h * (zeta[i] - zeta_k[i]) + \\\n",
    "           L * (zeta[i] - zeta_0[i])"
   ]
  },
  {
   "cell_type": "code",
   "execution_count": 9,
   "metadata": {},
   "outputs": [],
   "source": [
    "def nesterov(func, grad_func_stoch, x0, T=100, L_add=0, restart=None, beta=1/2, return_f=True, inner=False, time_scale=False, verbose=False):\n",
    "    \"\"\"\n",
    "    Nesterov's Fast Coordinate Descent method\n",
    "    paper: Nesterov and Stich\n",
    "           \"Efficiency of the Accelerated Coordinate Descent Method on Structured Optimization Problems\"\n",
    "           (presentation http://www.mathnet.ru:8080/PresentFiles/11909/7_nesterov.pdf , page 6)\n",
    "    \n",
    "    param: func             objective functional\n",
    "    param: grad_func_stoch  stochastic gradient of the objective functional\n",
    "    param: x0               starting point\n",
    "    param: T                maximum number of iterations\n",
    "    param: L_add            summand for all directional Lipschitz constants\n",
    "    param: restart          count of iterations between two consequent restarts\n",
    "    param: beta             parameter of randomizer normalization constants\n",
    "    param: return_f         if true, then procedure returns the history of functional values\n",
    "    param: time_scale       if true, then procedure returns the times of all iterations\n",
    "    param: verbose          if true, then procedure logs debug information\n",
    "    \n",
    "    :return: x                     result value\n",
    "    :return: funcs (if return_f)   history of functional values    \n",
    "    :return: times (if return_f)   times for all iterations\n",
    "    \"\"\"\n",
    "    \n",
    "    x = x0.copy()\n",
    "    v = x0.copy()\n",
    "    \n",
    "    A = 0\n",
    "    S = ((Li+L_add)**beta).sum()\n",
    "    \n",
    "    funcs = []\n",
    "    times = []\n",
    "    \n",
    "    time_start = time.time()\n",
    "    \n",
    "    eye = np.eye(n)\n",
    "    \n",
    "    for k in range(T):\n",
    "        i = int(np.random.choice(np.linspace(0, n-1, n), \n",
    "                                 p=(Li+L_add)**beta/S))\n",
    "        a = np.roots([S**2, -1, -A]).max()\n",
    "        A = A + a\n",
    "        alpha = a / A\n",
    "        \n",
    "        y = (1 - alpha) * x + alpha * v\n",
    "        x = y - (1 / (Li[i]+L_add)) * grad_func_stoch(y, i) * eye[i]\n",
    "        v = v - (a * S) / ((Li[i]+L_add)**beta) * grad_func_stoch(y, i) * eye[i]\n",
    "        \n",
    "        if restart is not None and k % restart == 0:\n",
    "            v = x.copy()\n",
    "            \n",
    "        if time_scale:\n",
    "            times.append(time.time())\n",
    "        \n",
    "        funcs.append(f(x))\n",
    "        if verbose:\n",
    "            print(f(x))\n",
    "    \n",
    "    if return_f:\n",
    "        return x, np.array(funcs), times\n",
    "    else:\n",
    "        return x"
   ]
  },
  {
   "cell_type": "code",
   "execution_count": 10,
   "metadata": {},
   "outputs": [],
   "source": [
    "def CLCM(func, grad_func_stoch, x0, T=100, L_add=0, restart=None, beta=1/2, return_f=True, verbose=False):\n",
    "    \"\"\"\n",
    "    Componentwise Linear Coupling method\n",
    "    paper: (https://arxiv.org/pdf/1711.00394.pdf , page 211) [russian]\n",
    "    \n",
    "    param: func             objective functional\n",
    "    param: grad_func_stoch  stochastic gradient of the objective functional\n",
    "    param: x0               starting point\n",
    "    param: T                maximum number of iterations\n",
    "    param: L_add            summand for all directional Lipschitz constants\n",
    "    param: restart          count of iterations between two consequent restarts\n",
    "    param: beta             parameter of randomizer normalization constants\n",
    "    param: return_f         if true, then procedure returns the history of functional values\n",
    "    param: verbose          if true, then procedure logs debug information\n",
    "    \n",
    "    :return: x                     result value\n",
    "    :return: funcs (if return_f)   history of functional values\n",
    "    \"\"\"\n",
    "    \n",
    "    x = x0.copy()\n",
    "    y = x0.copy()\n",
    "    z = x0.copy()\n",
    "    \n",
    "    S = ((Li+L_add)**beta).sum()\n",
    "    p = ((Li+L_add)**beta)/S\n",
    "    L_hat = ((Li+L_add)**beta).sum()**2\n",
    "    \n",
    "    funcs = []\n",
    "    \n",
    "    eye = np.eye(n)\n",
    "    \n",
    "    for k in range(T):\n",
    "        i = int(np.random.choice(np.linspace(0, n-1, n), p=p))\n",
    "        \n",
    "        tau = 2 / (k + 2)\n",
    "        h = (k + 2) / (2 * L_hat)\n",
    "        \n",
    "        x = tau * z + (1 - tau) * y\n",
    "        y = x - 1 / (Li[i]+L_add) * grad_func_stoch(x, i) * eye[i]\n",
    "        z = z - h / p * grad_func_stoch(x, i) * eye[i]\n",
    "        \n",
    "        if restart is not None and k % restart == 0:\n",
    "            y = x.copy()\n",
    "            z = x.copy()\n",
    "        \n",
    "        funcs.append(func(x))\n",
    "        if verbose:\n",
    "            print(f(x))\n",
    "    \n",
    "    if return_f:\n",
    "        return x, np.array(funcs)\n",
    "    else:\n",
    "        return x"
   ]
  },
  {
   "cell_type": "markdown",
   "metadata": {},
   "source": [
    "$L_h = \\max_{k = 1,...,n} \\|A^{<k>}\\|^2_2$"
   ]
  },
  {
   "cell_type": "code",
   "execution_count": 11,
   "metadata": {},
   "outputs": [],
   "source": [
    "Lh = max([np.linalg.norm(A[:, k])**2 for k in range(n)])\n",
    "L = Lh"
   ]
  },
  {
   "cell_type": "code",
   "execution_count": 12,
   "metadata": {},
   "outputs": [],
   "source": [
    "x_0 = np.random.random(n)"
   ]
  },
  {
   "cell_type": "code",
   "execution_count": 13,
   "metadata": {},
   "outputs": [],
   "source": [
    "def grad_composite(zeta0, L, Lh, time_scale):\n",
    "    \"\"\"\n",
    "    Composite Gradient method for optimizing proximal phi function\n",
    "    \n",
    "    param: zeta0      starting point\n",
    "    param: T          maximum number of iterations\n",
    "    param: L, Lh      Lipschitz constants\n",
    "    param: time_scale if true, then procedure returns the times of all iterations\n",
    "    \n",
    "    :return: zeta         result value\n",
    "    :return: history_comp history of functional values of the M_inn method (Nesterov FCD)\n",
    "    :return: times        times for all iterations\n",
    "    \"\"\"\n",
    "    \n",
    "    zeta = zeta0.copy()\n",
    "    history_comp = []\n",
    "    \n",
    "    times = []\n",
    "    \n",
    "    for i in range(1):\n",
    "        zeta, history_inner, times_inner = nesterov(\n",
    "            lambda zeta_var: phi(zeta_var, zeta, zeta0, Lh, L),\n",
    "            lambda zeta_var, i: grad_phi_stoch(zeta_var, zeta, zeta0, Lh, L, i),\n",
    "            zeta.copy(),\n",
    "            T=100,\n",
    "            L_add=L+Lh,\n",
    "            restart=None,\n",
    "            inner=True,\n",
    "            return_f=True,\n",
    "            time_scale=time_scale\n",
    "        )\n",
    "            \n",
    "        times += times_inner\n",
    "        history_comp += history_inner.tolist()\n",
    "        \n",
    "        if np.linalg.norm(grad_f(zeta) + L*(zeta - zeta0)) <= L / 2 * np.linalg.norm(zeta - zeta0):\n",
    "            break\n",
    "    \n",
    "    return zeta, history_comp, times"
   ]
  },
  {
   "cell_type": "code",
   "execution_count": 14,
   "metadata": {},
   "outputs": [],
   "source": [
    "def ms_acc_prox_method(x0, L, Lh, T, time_scale, verbose=False):\n",
    "    \"\"\"\n",
    "    Monteiro–Svaiter algorithm\n",
    "    \n",
    "    param: x0         starting point\n",
    "    param: T          maximum number of iterations\n",
    "    param: L, Lh      Lipschitz constants\n",
    "    param: time_scale if true, then procedure returns the times of all iterations\n",
    "    param: verbose    if true, then procedure logs debug information\n",
    "    \n",
    "    :return: zeta         result value\n",
    "    :return: history_comp history of functional values of the M_inn method (Nesterov FCD)\n",
    "    :return: times        times for all iterations\n",
    "    \"\"\"\n",
    "    \n",
    "    x = x0.copy()\n",
    "    y = x0.copy()\n",
    "    z = x0.copy()\n",
    "\n",
    "    history = []\n",
    "    times = []\n",
    "    \n",
    "    Ak = 0\n",
    "    \n",
    "    for it in range(T):\n",
    "        ak = (1/L + np.sqrt(1/L/L + 4 * Ak / L)) / 2\n",
    "        Ak_new = Ak + ak\n",
    "        \n",
    "        x = (Ak / Ak_new) * y + (ak / Ak_new) * z\n",
    "        y, history_comp, times_comp = grad_composite(x, Lh, L, time_scale=time_scale)\n",
    "            \n",
    "        if verbose:\n",
    "            print(\"y\", f(y))\n",
    "            print(\"--\", ak)\n",
    "        \n",
    "        z = z - ak*0.1*grad_f(y)\n",
    "        \n",
    "        if verbose:\n",
    "            print(\"z\", f(z))\n",
    "        \n",
    "        Ak = Ak_new\n",
    "        \n",
    "        times += times_comp\n",
    "        history += history_comp\n",
    "        \n",
    "    return y, np.array(history), times"
   ]
  },
  {
   "cell_type": "code",
   "execution_count": 15,
   "metadata": {},
   "outputs": [],
   "source": [
    "def fgm(func, grad_func, x0, T=1000, L_const=0, return_f=True, time_scale=False, verbose=False):\n",
    "    \"\"\"\n",
    "    Fast Gradient method\n",
    "    \n",
    "    param: func             objective functional\n",
    "    param: grad_func        gradient of the objective functional\n",
    "    param: x0               starting point\n",
    "    param: T                maximum number of iterations\n",
    "    param: L_const          Lipschitz constant\n",
    "    param: return_f         if true, then procedure returns the history of functional values\n",
    "    param: time_scale       if true, then procedure returns the times of all iterations\n",
    "    param: verbose          if true, then procedure logs debug information\n",
    "    \n",
    "    :return: x                     result value\n",
    "    :return: funcs (if return_f)   history of functional values    \n",
    "    :return: times (if return_f)   times for all iterations\n",
    "    \"\"\"\n",
    "    \n",
    "    x = x0.copy()\n",
    "    v = x0.copy()\n",
    "    \n",
    "    A = 0\n",
    "    S = L_const / 2\n",
    "    \n",
    "    funcs = []\n",
    "    times = []\n",
    "    \n",
    "    for k in range(T):\n",
    "        a = np.roots([S, -1, -A]).max()\n",
    "        A = A + a\n",
    "        alpha = a / A\n",
    "        \n",
    "        y = (1 - alpha) * x + alpha * v\n",
    "        x = y - (1 / L_const) * grad_func(y)\n",
    "        v = v - a * grad_func(x)\n",
    "        \n",
    "        if time_scale:\n",
    "            times.append(time.time())\n",
    "        \n",
    "        funcs.append(func(x))\n",
    "        \n",
    "        if verbose:\n",
    "            print(f(x))\n",
    "        \n",
    "    if return_f:\n",
    "        return x, np.array(funcs), times\n",
    "    else:\n",
    "        return x"
   ]
  },
  {
   "cell_type": "code",
   "execution_count": 16,
   "metadata": {},
   "outputs": [],
   "source": [
    "zeta_times, funcs_times, times = nesterov(\n",
    "    f,\n",
    "    grad_f_stoch,\n",
    "    x_0,\n",
    "    T=3000,\n",
    "    L_add=0,\n",
    "    restart=None,\n",
    "    time_scale=True,\n",
    "#     verbose=True\n",
    ")"
   ]
  },
  {
   "cell_type": "code",
   "execution_count": 17,
   "metadata": {},
   "outputs": [],
   "source": [
    "x_fgm_times, funcs_fgm_times, fgm_times = fgm(\n",
    "    f,\n",
    "    grad_f,\n",
    "    x_0,\n",
    "    T=1000,\n",
    "    L_const=L*180,\n",
    "    time_scale=True,\n",
    "#     verbose=True\n",
    ")"
   ]
  },
  {
   "cell_type": "code",
   "execution_count": 18,
   "metadata": {},
   "outputs": [],
   "source": [
    "x_ms_times, funcs_ms_times, ms_times = ms_acc_prox_method(\n",
    "    x_0, \n",
    "    L, Lh, \n",
    "    T=10, \n",
    "    time_scale=True, \n",
    "#     verbose=True\n",
    ")"
   ]
  },
  {
   "cell_type": "code",
   "execution_count": 19,
   "metadata": {},
   "outputs": [],
   "source": [
    "time_max = min(\n",
    "    ms_times[-1] - ms_times[0],\n",
    "    times[-1] - times[0],\n",
    "    fgm_times[-1] - fgm_times[0]\n",
    ")"
   ]
  },
  {
   "cell_type": "code",
   "execution_count": 20,
   "metadata": {},
   "outputs": [],
   "source": [
    "ms_times_max_idx = np.searchsorted(np.array(ms_times) - ms_times[0], time_max, side=\"right\")\n",
    "times_max_idx = np.searchsorted(np.array(times) - times[0], time_max, side=\"right\")\n",
    "fgm_times_max_idx = np.searchsorted(np.array(fgm_times) - fgm_times[0], time_max, side=\"right\")"
   ]
  },
  {
   "cell_type": "code",
   "execution_count": 21,
   "metadata": {},
   "outputs": [],
   "source": [
    "funcs_ms_times = np.concatenate([[f(x_0)], funcs_ms_times])\n",
    "funcs_times = np.concatenate([[f(x_0)], funcs_times])\n",
    "funcs_fgm_times = np.concatenate([[f(x_0)], funcs_fgm_times])"
   ]
  },
  {
   "cell_type": "code",
   "execution_count": 22,
   "metadata": {},
   "outputs": [
    {
     "data": {
      "image/png": "[encoded data removed]",
      "text/plain": [
       "<Figure size 432x288 with 1 Axes>"
      ]
     },
     "metadata": {
      "needs_background": "light"
     },
     "output_type": "display_data"
    }
   ],
   "source": [
    "plt.semilogy((np.array(ms_times) - ms_times[0])[:ms_times_max_idx], (funcs_ms_times)[:ms_times_max_idx], \n",
    "             label=\"MS accelerated FCD\")\n",
    "plt.semilogy((np.array(times) - times[0])[:times_max_idx], (funcs_times)[:times_max_idx], label=\"FCD\")\n",
    "plt.semilogy((np.array(fgm_times) - fgm_times[0])[:fgm_times_max_idx], (funcs_fgm_times)[:fgm_times_max_idx], label=\"FGM\")\n",
    "\n",
    "plt.grid(linewidth=0.5)\n",
    "\n",
    "plt.xlabel(r\"Time, $T$ (s)\", fontsize=12)\n",
    "plt.ylabel(r\"Function value (log-scale)\", fontsize=12)\n",
    "plt.legend()\n",
    "plt.show()"
   ]
  },
  {
   "cell_type": "code",
   "execution_count": 23,
   "metadata": {},
   "outputs": [],
   "source": [
    "length = min(\n",
    "    funcs_ms_times.shape[0],\n",
    "    funcs_times.shape[0],\n",
    "    funcs_fgm_times.shape[0]\n",
    ")"
   ]
  },
  {
   "cell_type": "code",
   "execution_count": 24,
   "metadata": {},
   "outputs": [
    {
     "data": {
      "image/png": "[encoded data removed]",
      "text/plain": [
       "<Figure size 432x288 with 1 Axes>"
      ]
     },
     "metadata": {
      "needs_background": "light"
     },
     "output_type": "display_data"
    }
   ],
   "source": [
    "plt.semilogy(funcs_ms_times[:length], \n",
    "             label=\"MS accelerated FCD\")\n",
    "plt.semilogy(funcs_times[:length], label=\"FCD\")\n",
    "plt.semilogy(funcs_fgm_times[:length], label=\"FGM\")\n",
    "plt.grid(linewidth=0.5)\n",
    "\n",
    "plt.xlabel(r\"Number of iterations, $N$\", fontsize=12)\n",
    "plt.ylabel(r\"Function value (log-scale)\", fontsize=12)\n",
    "plt.legend()\n",
    "plt.show()"
   ]
  },
  {
   "cell_type": "code",
   "execution_count": null,
   "metadata": {},
   "outputs": [],
   "source": []
  }
 ],
 "metadata": {
  "kernelspec": {
   "display_name": "Python 3",
   "language": "python",
   "name": "python3"
  },
  "language_info": {
   "codemirror_mode": {
    "name": "ipython",
    "version": 3
   },
   "file_extension": ".py",
   "mimetype": "text/x-python",
   "name": "python",
   "nbconvert_exporter": "python",
   "pygments_lexer": "ipython3",
   "version": "3.8.1"
  }
 },
 "nbformat": 4,
 "nbformat_minor": 2
}
