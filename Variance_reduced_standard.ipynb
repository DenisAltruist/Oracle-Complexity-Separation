{
  "nbformat": 4,
  "nbformat_minor": 0,
  "metadata": {
    "@webio": {
      "lastCommId": null,
      "lastKernelId": null
    },
    "kernelspec": {
      "display_name": "Python 3",
      "language": "python",
      "name": "python3"
    },
    "language_info": {
      "codemirror_mode": {
        "name": "ipython",
        "version": 3
      },
      "file_extension": ".py",
      "mimetype": "text/x-python",
      "name": "python",
      "nbconvert_exporter": "python",
      "pygments_lexer": "ipython3",
      "version": "3.7.3"
    },
    "colab": {
      "name": "Copy of Accelerated Sliding_SVM_improved.ipynb",
      "provenance": [],
      "collapsed_sections": []
    }
  },
  "cells": [
    {
      "cell_type": "code",
      "metadata": {
        "id": "Yy40th4eJlFl",
        "colab_type": "code",
        "colab": {}
      },
      "source": [
        "import numpy as np\n",
        "import math\n",
        "from scipy.optimize import minimize  \n",
        "import time"
      ],
      "execution_count": 0,
      "outputs": []
    },
    {
      "cell_type": "markdown",
      "metadata": {
        "id": "VKMgzrVDJlFt",
        "colab_type": "text"
      },
      "source": [
        "# Oracle Complexity Separation"
      ]
    },
    {
      "cell_type": "markdown",
      "metadata": {
        "id": "65QOcBpQJlFu",
        "colab_type": "text"
      },
      "source": [
        "##### Katyusha\n",
        "https://arxiv.org/pdf/1603.05953.pdf"
      ]
    },
    {
      "cell_type": "code",
      "metadata": {
        "id": "EylNken2JlFv",
        "colab_type": "code",
        "colab": {}
      },
      "source": [
        "def orac_psi_kat(x, ksik, ksi0, p_grad_h, L, Lh):\n",
        "    nor1 = np.linalg.norm(x - ksik, 2)\n",
        "    nor_sq1 = nor1*nor1\n",
        "\n",
        "    nor2 = np.linalg.norm(x - ksi0, 2)\n",
        "    nor_sq2 = nor2*nor2\n",
        "    \n",
        "    return float(np.dot(p_grad_h(ksik).T, x - ksik)) + Lh / 2 * nor_sq1 + L / 2 * nor_sq2"
      ],
      "execution_count": 0,
      "outputs": []
    },
    {
      "cell_type": "code",
      "metadata": {
        "id": "85pZYccYJlF0",
        "colab_type": "code",
        "colab": {}
      },
      "source": [
        "def orac_z(x, alpha, p_orac_psi_kat, zk, gr_tilde, ksik, ksi0, p_grad_h, L, Lh):\n",
        "    \n",
        "    nor1 = np.linalg.norm(x - zk, 2)\n",
        "    nor_sq1 = nor1*nor1\n",
        "\n",
        "    return 1 / 2 / alpha * nor_sq1  + float(np.dot(gr_tilde.T, x)) + p_orac_psi_kat(x, ksik, ksi0, p_grad_h, L, Lh)"
      ],
      "execution_count": 0,
      "outputs": []
    },
    {
      "cell_type": "code",
      "metadata": {
        "id": "rMQUHL1lJ-JH",
        "colab_type": "code",
        "colab": {}
      },
      "source": [
        "def argmin_sol(x, alpha, p_orac_psi_kat, zk, gr_tilde, ksik, ksi0, p_grad_h, L, Lh):\n",
        "   return (1 / alpha * zk - gr_tilde + Lh * ksik + L * ksi0 - p_grad_h(ksik)) / (1 / alpha + Lh + L)"
      ],
      "execution_count": 0,
      "outputs": []
    },
    {
      "cell_type": "code",
      "metadata": {
        "id": "Shg1PxVAJlF5",
        "colab_type": "code",
        "colab": {}
      },
      "source": [
        "\n",
        "def Katyusha(x0, S_n, L, p_grad_h, p_grad_g, p_stoch_grad, p_orac_z, eps, p_h, Lh, ksik, ksi0, p_orac_psi_kat):\n",
        "    n_dim = x0.shape[0]\n",
        "    n_sam = n_dim - 1\n",
        "    m =  2\n",
        "    tau2 = 0.5\n",
        "    n = n_sam\n",
        " \n",
        "    y = np.copy(x0)\n",
        "    z = np.copy(x0)\n",
        "    x_tilde = np.copy(x0)\n",
        "    \n",
        "    num_grad_g_stoch_calls = 0\n",
        "    \n",
        "    for i in range(0, S_n):\n",
        "        grad_mu = p_grad_g(x_tilde)\n",
        "        num_grad_g_stoch_calls = num_grad_g_stoch_calls + n_sam\n",
        "        tau1 = 2 / (i + 4)\n",
        "        \n",
        "        alpha = 1 / 3 / tau1 / L\n",
        "        \n",
        "        sum_y = 0\n",
        "        \n",
        "        for j in range(0, m):\n",
        "            k = s * m + j\n",
        "            x = tau1 * z + tau2 * x_tilde + (1 - tau1 - tau2) * y\n",
        "            a = np.random.randint(0, n_sam) \n",
        "            grad_x = p_stoch_grad(x, a)\n",
        "            grad_x_tilde = p_stoch_grad(x_tilde, a)\n",
        "            num_grad_g_stoch_calls = num_grad_g_stoch_calls + 2\n",
        "            \n",
        "            grad_t = grad_mu + grad_x - grad_x_tilde\n",
        "            z_new = np.copy(z)\n",
        "            \n",
        "            \n",
        "            # allargs = (alpha, p_orac_psi_kat, z, grad_t, ksik, ksi0, p_grad_h, L, Lh)\n",
        "            # minim_res = minimize(p_orac_z, args = allargs, x0 = np.ravel(z), tol = eps, options={'maxiter': 15, 'disp': False})\n",
        "\n",
        "            minim_res2 = argmin_sol(z_new, alpha, p_orac_psi_kat, z, grad_t, ksik, ksi0, p_grad_h, L, Lh)\n",
        "            \n",
        "            # print(\"Norm\", np.linalg.norm(minim_res.x - minim_res2))\n",
        "\n",
        "            #print('j inside Kat', j)\n",
        "            z_new = minim_res2\n",
        "            y = x + tau1 * (z_new - z)\n",
        "            z = z_new\n",
        "            \n",
        "            sum_y = sum_y + y\n",
        "        x_tilde = 1 / m * sum_y    \n",
        "    return x_tilde, num_grad_g_stoch_calls"
      ],
      "execution_count": 0,
      "outputs": []
    },
    {
      "cell_type": "markdown",
      "metadata": {
        "id": "0ZLK1EO-JlF9",
        "colab_type": "text"
      },
      "source": [
        "##### Gradient Method for Composite Optimization\n",
        " \n",
        "\n",
        "$\\phi_{i}(y) := \\langle \\nabla h(y^{k}), \\, y - y^{k} \\rangle + g(y) + \\tfrac{L_h}{2} \\|y - y^{k}\\|_2^2 + \\tfrac{L}{2} \\|y - y^{0}\\|_2^2$"
      ]
    },
    {
      "cell_type": "code",
      "metadata": {
        "id": "rjNaYv58JlF-",
        "colab_type": "code",
        "colab": {}
      },
      "source": [
        "# Psi function\n",
        "# Input parameters:\n",
        "# p_grad_h --- pointer on \\nabla h(x) function\n",
        "# p_g --- pointer on \\tilde g(x) function\n",
        "# yk --- y^{k}\n",
        "# L_h  --- Lipchitz for h(x)\n",
        "\n",
        "def orac_psi(x, p_grad_h, p_g, Lh, yk, L, y0):\n",
        "    \n",
        "    nor1 = np.linalg.norm(x - yk, 2)\n",
        "    nor_sq1 = nor1*nor1\n",
        "\n",
        "    nor2 = np.linalg.norm(x - y0, 2)\n",
        "    nor_sq2 = nor2*nor2\n",
        "    \n",
        "    return float(np.dot(p_grad_h(yk).T, x - yk)) + p_g(x) + Lh / 2 * nor_sq1 + L / 2 * nor_sq2\n",
        "\n",
        "\n",
        "# Gradient Method for Composite Optimization\n",
        "# Input parameters:\n",
        "# p_orac_psi --- oracle for Minimization Alg\n",
        "# p_grad_h --- pointer on \\nabla h(x) function\n",
        "# p_g --- pointer on \\tilde g(x) function\n",
        "# y0 --- y^0 (first initial point for minimize)\n",
        "# L_h  --- Lipchitz for h(x)\n",
        "# N --- number of iterations\n",
        "# xk1 --- $x^{k+1}$\n",
        "\n",
        "def GradComposite(p_orac_psi, p_grad_h, p_g, Lh, y0, N, L, xk1, p_grad_g, eps, p_stoch_grad, p_h, p_orac_psi_kat):\n",
        "    yi = np.copy(xk1)\n",
        "    # nor1_krit = np.linalg.norm(p_grad_g(yi) + p_grad_h(yi), 2)\n",
        "    # nor2_krit = 0\n",
        "    \n",
        "    i = 0\n",
        "    \n",
        "    sum_calls = 0 \n",
        "\n",
        "    # if nor1_krit <= L / 2 * nor2_krit:\n",
        "     # return yi, sum_calls\n",
        "    \n",
        "    # while True: \n",
        "    while True:\n",
        "        \n",
        "        i = i + 1\n",
        "        \n",
        "        allargs = (p_grad_h, p_g, Lh, yi, L, y0)\n",
        "        \n",
        "        #print('minimize start', yi.shape, y0.shape)\n",
        "        yi, calls = Katyusha(yi, 1, L, p_grad_h, p_grad_g, p_stoch_grad, orac_z, eps, p_h, Lh, yi, y0, p_orac_psi_kat)\n",
        "        sum_calls = sum_calls + calls\n",
        "        \n",
        "        # nor1_krit = np.linalg.norm(p_grad_g(yi) + p_grad_h(yi) + L*(yi - y0), 2)\n",
        "        # nor2_krit = np.linalg.norm(yi - y0, 2)\n",
        "        #print('Comp', i, nor1_krit)  \n",
        "       \n",
        "        # if nor1_krit <= L / 2 * nor2_krit:\n",
        "          #  print(\"BREAK\")\n",
        "           # break\n",
        "        \n",
        "        if i > 0:\n",
        "          break\n",
        "    \n",
        "    return yi, sum_calls"
      ],
      "execution_count": 0,
      "outputs": []
    },
    {
      "cell_type": "code",
      "metadata": {
        "id": "1J3w5RQ53VYc",
        "colab_type": "code",
        "colab": {}
      },
      "source": [
        "\n",
        "def func_v(x):\n",
        "  return np.linalg.norm(x)**2 / 2\n",
        "\n",
        "def func_V(x, z):\n",
        "  return func_v(z) - (func_v(x) + np.dot(x, z - x))\n",
        "\n",
        "def func_val(x, gamma_s, G_t, h, mu, x_t_underlined, x_t_minus_1):\n",
        "  return gamma_s * (np.dot(G_t, x) + h(x) + mu * func_V(x_t_underlined, x)) + func_V(x_t_minus_1, x)\n",
        "\n",
        "# def argmin_new(G_t):\n",
        "#   x = np.linalg.solve(K_matrix, -G_t[1:])\n",
        "#   return np.insert(x, 0, 0)\n",
        "\n",
        "def variance_reduced(x0, S, grad_g, stoch_grad_g, h, eps = 0.01, theta = [1], mu = 0, gamma_s = 1, alpha_s = 1, p_s = 0):\n",
        "  oracle_calls = 0\n",
        "\n",
        "  x_s_tilda = np.copy(x0)\n",
        "  x_s = np.copy(x0)\n",
        "  m = x0.shape[0] - 1\n",
        "\n",
        "  T = len(theta)\n",
        "  theta_sum = 0\n",
        "  for t in theta:\n",
        "    theta_sum = theta_sum + t\n",
        "\n",
        "  for s in range(1, S + 1):\n",
        "    x_tilda = np.copy(x_s_tilda)\n",
        "    g_tilda = grad_g(x_tilda)\n",
        "    oracle_calls += m\n",
        "    x_t = np.copy(x_s)\n",
        "    x_t_streak = np.copy(x_tilda)\n",
        "\n",
        "    x_sum = np.zeros(x0.shape[0])\n",
        "\n",
        "    for t in range(1, T + 1):\n",
        "      i_t = np.random.randint(0, m)\n",
        "      x_t_underlined = ((1 + mu * gamma_s) * (1 - alpha_s - p_s) * x_t_streak + (1 + mu * gamma_s) * p_s * x_tilda) / (1 + mu * gamma_s * (1 - alpha_s))\n",
        "      G_t = (stoch_grad_g(x_t_underlined, i_t) - stoch_grad_g(x_tilda, i_t)) + g_tilda\n",
        "      oracle_calls += 2\n",
        "\n",
        "      allargs = (gamma_s, G_t, h, mu, x_t_underlined, x_t)\n",
        "      minim_res = minimize(func_val, args = allargs, x0 = np.ravel(x_t), tol = eps, options={'maxiter': 15, 'disp': False})\n",
        "      x_t = minim_res.x\n",
        "\n",
        "      # min_res_2 = argmin_new(G_t)\n",
        "      # print(np.linalg.norm(min_res_2 - x_t))\n",
        "\n",
        "      x_t_streak = (1 - alpha_s - p_s) * x_t_streak + alpha_s * x_t + p_s * x_tilda\n",
        "\n",
        "      x_sum = x_sum + x_t_streak * theta[t - 1]\n",
        "\n",
        "    x_s = x_t\n",
        "    x_s_tilda = x_sum / theta_sum\n",
        "\n",
        "  return x_s, oracle_calls\n",
        "\n",
        "def GradComposite2(y0, p_h, p_grad_g, p_stoch_grad, eps):\n",
        "    yi = np.copy(y0)\n",
        "    # nor1_krit = np.linalg.norm(p_grad_g(yi) + p_grad_h(yi), 2)\n",
        "    # nor2_krit = 0\n",
        "    \n",
        "    i = 0\n",
        "    \n",
        "    sum_calls = 0 \n",
        "\n",
        "    # if nor1_krit <= L / 2 * nor2_krit:\n",
        "     # return yi, sum_calls\n",
        "    \n",
        "    # while True: \n",
        "    while True:\n",
        "        i = i + 1\n",
        "        \n",
        "        # allargs = (p_grad_h, p_g, Lh, yi, L, y0)\n",
        "        \n",
        "        #print('minimize start', yi.shape, y0.shape)\n",
        "        # x0, S, grad_g, stoch_grad_g, h, eps = 0.01, theta = [1], mu = 0, gamma_s = 1, alpha_s = 1, p_s = 0\n",
        "        yi, calls = variance_reduced(x0=yi, S=2, grad_g=p_grad_g, stoch_grad_g=p_stoch_grad, h=p_h, eps=eps)\n",
        "        # yi, calls = Katyusha(yi, 1, L, p_grad_h, p_grad_g, p_stoch_grad, orac_z, eps, p_h, Lh, yi, y0, p_orac_psi_kat)\n",
        "        sum_calls = sum_calls + calls\n",
        "        \n",
        "        # nor1_krit = np.linalg.norm(p_grad_g(yi) + p_grad_h(yi) + L*(yi - y0), 2)\n",
        "        # nor2_krit = np.linalg.norm(yi - y0, 2)\n",
        "        #print('Comp', i, nor1_krit)  \n",
        "       \n",
        "        # if nor1_krit <= L / 2 * nor2_krit:\n",
        "          #  print(\"BREAK\")\n",
        "           # break\n",
        "        \n",
        "        if i > 0:\n",
        "          break\n",
        "    \n",
        "    return yi, sum_calls"
      ],
      "execution_count": 0,
      "outputs": []
    },
    {
      "cell_type": "markdown",
      "metadata": {
        "id": "mWyex49bJlGC",
        "colab_type": "text"
      },
      "source": [
        "#### Monteiro–Svaiter Accelerated Proximal method\n",
        "Parameters:  \n",
        "$L > 0$    \n",
        "$x0$ --- initial point  \n",
        "$N$ --- number of iterations  \n",
        "$type\\_z\\_step$ --- 1 -- stardard version for calculating $z$, 2 -- experimental version for calculating $z$ (without gradient of $f(x)$)   "
      ]
    },
    {
      "cell_type": "code",
      "metadata": {
        "id": "99tJLIR6JlGD",
        "colab_type": "code",
        "colab": {}
      },
      "source": [
        "def ms_acc_prox_method(L, Lh, x0, N, p_grad_h, p_g, p_grad_g, p_f, type_z_step, eps, p_stoch_grad, p_h, verbose = 0, time_scale = False):\n",
        "\n",
        "    # Initial points\n",
        "    y0 = np.copy(x0)\n",
        "    z0 = np.copy(x0)\n",
        "\n",
        "    it = 0\n",
        "\n",
        "    x = x0\n",
        "    y = y0\n",
        "    z = z0\n",
        "\n",
        "    plt1 = []\n",
        "    \n",
        "    Ak = 0\n",
        "    \n",
        "    times = []\n",
        "    \n",
        "    time_start = time.time()\n",
        "    \n",
        "    calls = []\n",
        "    \n",
        "    while  it < N: \n",
        "        it = it + 1\n",
        "        \n",
        "        ak = (1/L + math.sqrt(1/L/L + 4 * Ak / L)) / 2\n",
        "        Ak1 = Ak + ak\n",
        "        \n",
        "        x = Ak / Ak1 * y + ak / Ak1 * z\n",
        "        \n",
        "        #print('mm', x.shape, y.shape, z.shape)\n",
        "        # y, co = GradComposite(orac_psi, p_grad_h, p_g, Lh, x, N, L, x, p_grad_g, eps, p_stoch_grad, p_h, orac_psi_kat)\n",
        "        y, co = GradComposite2(x, p_h, p_grad_g, p_stoch_grad, eps)\n",
        "        print(it, np.linalg.norm(y - x))\n",
        "        if type_z_step == 1:\n",
        "            z = z - ak * (p_grad_h(y) + p_grad_g(y))\n",
        "            co += y.size\n",
        "        elif type_z_step == 2:    \n",
        "            z = z - ak * L * (x - y)\n",
        "        \n",
        "        if verbose == 1:\n",
        "            print(\"x y z ak Ak Ak+1\", x.shape, y.shape, z.shape, ak, Ak, Ak1)\n",
        "        \n",
        "        Ak = Ak1\n",
        "     \n",
        "\n",
        "        time_end = time.time() - time_start\n",
        "        if time_scale:\n",
        "            times.append(time_end)\n",
        "            \n",
        "        if verbose == 1:\n",
        "            print('Main loop: iter f(y)')\n",
        "        \n",
        "        fy = p_f(y)\n",
        "        plt1.append(fy)\n",
        "        \n",
        "        calls.append(co)\n",
        "        \n",
        "        if verbose == 1:\n",
        "            print(it, fy)\n",
        "        \n",
        "    return N, y, plt1, times, calls"
      ],
      "execution_count": 0,
      "outputs": []
    },
    {
      "cell_type": "markdown",
      "metadata": {
        "id": "NTYVbsj-JlGL",
        "colab_type": "text"
      },
      "source": [
        "##### Restarts for MS"
      ]
    },
    {
      "cell_type": "code",
      "metadata": {
        "id": "tWmJltssJlGM",
        "colab_type": "code",
        "colab": {}
      },
      "source": [
        "def ms_restarts(mu, L, Lh, eta0, N, p_grad_h, p_g, p_grad_g, p_f, type_z_step, verbose = 0):\n",
        "    \n",
        "    N1, y1, plt1 = ms_acc_prox_method(L, Lh, x0, N, grad_h1, g1, grad_g1, f1, 1, verbose = 1)\n",
        "    "
      ],
      "execution_count": 0,
      "outputs": []
    },
    {
      "cell_type": "code",
      "metadata": {
        "id": "SHpvZtAnKe_c",
        "colab_type": "code",
        "colab": {}
      },
      "source": [
        "import pandas as pd\n",
        "from google.colab import files\n",
        "import io\n",
        "\n",
        "# uploaded2 = files.upload()\n",
        "\n",
        "# # Load data from a csv file\n",
        "# bcdf = pd.read_csv(io.BytesIO(uploaded2['madelon_train.data']), header = None)"
      ],
      "execution_count": 0,
      "outputs": []
    },
    {
      "cell_type": "markdown",
      "metadata": {
        "id": "ictyTbjxJlGR",
        "colab_type": "text"
      },
      "source": [
        "#### Case 1. Kernel SVM"
      ]
    },
    {
      "cell_type": "code",
      "metadata": {
        "id": "cFuwu0HQJlGS",
        "colab_type": "code",
        "outputId": "09b0006d-6c00-4a5f-f156-5c1f3dbc8f66",
        "colab": {
          "base_uri": "https://localhost:8080/",
          "height": 134
        }
      },
      "source": [
        "import pandas as pd\n",
        "# Load data from a csv file\n",
        "bcdf = pd.read_csv('madelon_train.data', sep=' ', header = None)\n",
        "\n",
        "ansb = pd.read_csv('madelon_train.labels', header = None)\n",
        "\n",
        "# Drop unecessary columns\n",
        "bcdf.drop([500], axis = 1, inplace = True)\n",
        "\n",
        "print(bcdf.size)\n",
        "# bcdf.replace('?', np.nan, inplace = True)\n",
        "# bcdf.dropna(inplace = True)\n",
        "print(bcdf.shape)\n",
        "\n",
        "# bcdf[10].replace(2, 1, inplace = True)\n",
        "# bcdf[10].replace(4, -1, inplace = True)\n",
        "\n",
        "bcdf = bcdf.apply(pd.to_numeric, errors = 'ignore')\n",
        "bcdf.info()"
      ],
      "execution_count": 0,
      "outputs": [
        {
          "output_type": "stream",
          "text": [
            "1000000\n",
            "(2000, 500)\n",
            "<class 'pandas.core.frame.DataFrame'>\n",
            "RangeIndex: 2000 entries, 0 to 1999\n",
            "Columns: 500 entries, 0 to 499\n",
            "dtypes: int64(500)\n",
            "memory usage: 7.6 MB\n"
          ],
          "name": "stdout"
        }
      ]
    },
    {
      "cell_type": "code",
      "metadata": {
        "id": "IYcQipzMJlGX",
        "colab_type": "code",
        "colab": {}
      },
      "source": [
        "# bcdf.groupby(10).mean()"
      ],
      "execution_count": 0,
      "outputs": []
    },
    {
      "cell_type": "code",
      "metadata": {
        "id": "3W8BhVYhJlGb",
        "colab_type": "code",
        "colab": {}
      },
      "source": [
        "from sklearn.preprocessing import Normalizer\n",
        "from sklearn.model_selection import train_test_split, KFold, cross_val_score \n",
        "from sklearn.model_selection import GridSearchCV\n",
        "from sklearn.svm import SVC\n",
        "\n",
        "# Split data into testing and training set. Use 67% for training\n",
        "X_train, X_test, y_train, y_test = train_test_split(bcdf, ansb, train_size = .67)\n",
        "\n",
        "# Instantiate \n",
        "norm = Normalizer()\n",
        "\n",
        "# Fit\n",
        "norm.fit(X_train)\n",
        "\n",
        "# Transform both training and testing sets\n",
        "X_train_norm = norm.transform(X_train)\n",
        "X_test_norm = norm.transform(X_test)\n",
        "\n",
        "# SVM_params = {'C':[0.001, 0.1, 10, 100], 'kernel':['rbf' ,'linear', 'poly', 'sigmoid']}\n",
        "\n",
        "# kfold = KFold(n_splits = 5, shuffle = True)#, random_state = 42)\n",
        "\n",
        "# model_grid = GridSearchCV(SVC(), SVM_params)\n",
        "\n",
        "# cv_results = cross_val_score(model_grid, X_train_norm, y_train, cv = kfold, scoring = 'accuracy')\n",
        "\n",
        "# msg = \"Cross Validation Accuracy %s: Accuracy: %f SD: %f\" % ('SVM sklearn', cv_results.mean(), cv_results.std())\n",
        "\n",
        "# print(msg)"
      ],
      "execution_count": 0,
      "outputs": []
    },
    {
      "cell_type": "markdown",
      "metadata": {
        "id": "ud8XImFeJlGi",
        "colab_type": "text"
      },
      "source": [
        "$$\n",
        "\\min_{\\beta_0, \\, \\beta} \\sum_{i = 1}^n [1 - y_i (\\beta_0 + \\beta x_i)]_+ + \\frac{\\lambda}{2} \\| \\beta \\|_2\n",
        "$$\n",
        "\n",
        "$$\n",
        "\\min_{\\beta_0, \\, \\theta} L[y, \\, K \\theta] + \\frac{\\lambda}{2} \\theta^T K \\theta\n",
        "$$\n",
        "\n",
        "$K$ is $n \\times n$ matrix, $K(x, x') = \\exp(-\\gamma \\|x - x' \\|^2)$"
      ]
    },
    {
      "cell_type": "code",
      "metadata": {
        "id": "l231M0tTJlGj",
        "colab_type": "code",
        "outputId": "85cbd204-777c-432a-fc6e-9168b21712f4",
        "colab": {
          "base_uri": "https://localhost:8080/",
          "height": 218
        }
      },
      "source": [
        "pd.to_numeric(X_train[6])"
      ],
      "execution_count": 0,
      "outputs": [
        {
          "output_type": "execute_result",
          "data": {
            "text/plain": [
              "1723    406\n",
              "248     491\n",
              "1521    536\n",
              "1843    440\n",
              "1214    533\n",
              "       ... \n",
              "437     537\n",
              "1770    439\n",
              "47      498\n",
              "562     479\n",
              "42      471\n",
              "Name: 6, Length: 1340, dtype: int64"
            ]
          },
          "metadata": {
            "tags": []
          },
          "execution_count": 348
        }
      ]
    },
    {
      "cell_type": "code",
      "metadata": {
        "id": "mcuLK2t0JlGn",
        "colab_type": "code",
        "colab": {}
      },
      "source": [
        "# Oracles\n",
        "\n",
        "# h(x) is strongly convex\n",
        "\n",
        "lam = 0.01\n",
        "gamma = 1e10\n",
        "\n",
        "n_sam = X_train.values.shape[0]\n",
        "X_arr = X_train.values\n",
        "y_arr = y_train.values.reshape(n_sam, 1)\n",
        "\n",
        "def K_func(xi, xj):\n",
        "    nor = np.linalg.norm(xi - xj, 2)\n",
        "    return np.exp(-gamma * nor * nor)\n",
        "\n",
        "K_matrix = np.zeros((n_sam, n_sam))\n",
        "E_matrix = np.identity(n_sam)\n",
        "for i in range(0, n_sam):\n",
        "    for j in range(0, n_sam):\n",
        "        K_matrix[i][j] = K_func(X_arr[i, :], X_arr[j, :])\n",
        "\n",
        "def h1(btheta):\n",
        "    theta = btheta[1:] \n",
        "    n_dim = theta.shape[0]\n",
        "    theta = theta.reshape(n_dim, 1)\n",
        "    #print('h1', lam / 2 * float(np.dot(theta.T, np.dot(K_matrix, theta))))\n",
        "    return lam / 2 * float(np.dot(theta.T, np.dot(K_matrix, theta)))\n",
        "\n",
        "def grad_h1(btheta):\n",
        "    theta = btheta[1:]\n",
        "    n_dim = theta.shape[0]\n",
        "    theta = theta.reshape(n_dim, 1)\n",
        "    gr = lam*np.dot(K_matrix, theta)\n",
        "    #print('gr', gr.shape)\n",
        "    gr0 = np.insert(gr, 0, 0)#, axis = 0)\n",
        "    #print('gr h1', gr0.shape, np.linalg.norm(gr), gr[3], theta[3])\n",
        "    return gr0 \n",
        "\n",
        "def g1(btheta):\n",
        "    \n",
        "    theta = btheta[1:]\n",
        "    n_dim = theta.shape[0]\n",
        "    beta0 = btheta[0]\n",
        "    s2 = 0\n",
        "    for i in range(0, n_dim):\n",
        "                      \n",
        "        ty = y_arr[i]*(beta0 + float(np.dot(theta.T, K_matrix[i, :].reshape(n_dim, 1))))\n",
        "        ty = float(ty)\n",
        "        \n",
        "        if ty <= 1 - mu_n:\n",
        "            pos = 1 - ty - mu_n / 2\n",
        "        elif ty <= 1:\n",
        "            pos = (1 - ty) * (1 - ty) / 2 / mu_n\n",
        "        else:\n",
        "            pos = 0\n",
        "        s2 = s2 + pos  \n",
        "        \n",
        "    return 1 / n_sam * float(s2)\n",
        "\n",
        "def grad_g1(btheta):\n",
        "    \n",
        "    theta = btheta[1:]\n",
        "    n_dim = theta.shape[0]\n",
        "    theta = theta.reshape(n_dim, 1)\n",
        "    beta0 = btheta[0]\n",
        "    \n",
        "    gr = np.zeros(btheta.shape)#.reshape(n_dim, 1)    \n",
        "    sum_for_beta0 = 0\n",
        "    sum_for_beta = 0\n",
        "    for i in range(0, n_dim):\n",
        "        #print(theta.T.shape, K_matrix[i, :].reshape(n_dim, 1).shape)\n",
        "        ty = y_arr[i]*(beta0 + float(np.dot(theta.T, K_matrix[i, :].reshape(n_dim, 1))))\n",
        "        ty = float(ty)\n",
        "        \n",
        "        if ty <= 1 - mu_n:\n",
        "            for_beta0 = float(-y_arr[i])\n",
        "            for_beta = for_beta0*K_matrix[i, :]\n",
        "            #print(ty, for_beta0.shape, for_beta.shape)\n",
        "        elif ty <= 1:\n",
        "            for_beta0 = 1 / mu_n * float((1 - ty) * (-y_arr[i]))\n",
        "            for_beta = for_beta0 * K_matrix[i, :]\n",
        "        else:\n",
        "            for_beta0 = 0\n",
        "            for_beta = np.zeros(theta.shape[0])\n",
        "        \n",
        "        sum_for_beta0 = sum_for_beta0 + for_beta0\n",
        "        sum_for_beta = sum_for_beta + for_beta\n",
        "        #print(i, ty, sum_for_beta0, sum_for_beta.shape, np.linalg.norm(sum_for_beta))\n",
        "    #print(sum_for_beta0, np.linalg.norm(sum_for_beta))    \n",
        "    gr[0] = sum_for_beta0\n",
        "    gr[1:] = sum_for_beta\n",
        "    \n",
        "    return 1 / n_sam * gr\n",
        "    \n",
        "def f1(x):\n",
        "    return h1(x) + g1(x)\n",
        "\n",
        "def grad_f1(x):\n",
        "    return grad_h1(x) + grad_g1(x)\n",
        "\n",
        "def stoch_grad(x, a):\n",
        "    \n",
        "    theta = x[1:]\n",
        "    n_dim = theta.shape[0]\n",
        "    theta = theta.reshape(n_dim, 1)\n",
        "    beta0 = x[0]\n",
        "    \n",
        "    gr = np.zeros(x.shape)#.reshape(n_dim, 1)    \n",
        "        \n",
        "    ty = y_arr[a]*(beta0 + float(np.dot(theta.T, K_matrix[a, :].reshape(n_dim, 1))))\n",
        "    ty = float(ty)\n",
        "        \n",
        "    if ty <= 1 - mu_n:\n",
        "            for_beta0 = float(-y_arr[a])\n",
        "            for_beta = for_beta0*K_matrix[a, :]\n",
        "            #print(ty, for_beta0.shape, for_beta.shape)\n",
        "    elif ty <= 1:\n",
        "            for_beta0 = 1 / mu_n * float((1 - ty) * (-y_arr[a]))\n",
        "            for_beta = for_beta0 * K_matrix[a, :]\n",
        "    else:\n",
        "            for_beta0 = 0\n",
        "            for_beta = np.zeros(theta.shape[0])\n",
        "        \n",
        "    gr[0] = for_beta0\n",
        "    gr[1:] = for_beta\n",
        "    \n",
        "    return 1 / n_sam * gr        "
      ],
      "execution_count": 0,
      "outputs": []
    },
    {
      "cell_type": "code",
      "metadata": {
        "id": "L1KWeqd7JlGq",
        "colab_type": "code",
        "outputId": "bc77e00c-ed40-46c7-be9c-0bc03eb64879",
        "colab": {
          "base_uri": "https://localhost:8080/",
          "height": 34
        }
      },
      "source": [
        "eps = 1e-1\n",
        "mu_n = eps # Parameter for Nesterov's smoothing\n",
        "\n",
        "def check_L(p_orac):\n",
        "    L = 1e-12\n",
        "    step = 2\n",
        "    for i in range(int(1e4)):\n",
        "        rn1 = np.random.randint(0, 1e8)\n",
        "        \n",
        "        x = -rn1 * np.random.rand(n_sam + 1)\n",
        "        rn2 = np.random.randint(0, 1e2)\n",
        "        y = rn2 * np.random.rand(n_sam + 1)\n",
        "        #print(rn1, rn2, np.linalg.norm(x), np.linalg.norm(y))\n",
        "        d1 = np.linalg.norm(p_orac(x) - p_orac(y))\n",
        "        d2 = np.linalg.norm(x - y)\n",
        "        #print(d1, d2)\n",
        "        while d1 > L*d2:\n",
        "                L = step*L\n",
        "                #print(d1, d2, L)\n",
        "        break        \n",
        "    return L            \n",
        "Lh = check_L(grad_h1)\n",
        "Lg = check_L(grad_g1)\n",
        "\n",
        "print('Lh exp ', Lh, 'Lg exp', Lg)"
      ],
      "execution_count": 0,
      "outputs": [
        {
          "output_type": "stream",
          "text": [
            "Lh exp  0.017179869184 Lg exp 1.024e-09\n"
          ],
          "name": "stdout"
        }
      ]
    },
    {
      "cell_type": "code",
      "metadata": {
        "id": "aMYC4xsbJlGu",
        "colab_type": "code",
        "outputId": "49fd0de3-65dd-4394-f7a2-fa425f438b23",
        "colab": {
          "base_uri": "https://localhost:8080/",
          "height": 84
        }
      },
      "source": [
        "n = 10\n",
        "x0 = 10*np.random.rand(n_sam + 1)\n",
        "\n",
        "import scipy\n",
        "w, v = scipy.linalg.eig(K_matrix)\n",
        "Lh = lam * (int(np.max(w)) + 1)\n",
        "\n",
        "print(\"Lh = \", Lh)\n",
        "L = 1\n",
        "Lh = Lh\n",
        "\n",
        "norm_x0 = np.linalg.norm(x0, 2)\n",
        "s = sum([np.linalg.norm(X_arr[i], 2) for i in range(0, n_sam)])\n",
        "norm_opt = min([1 / n_sam / lam*s, math.sqrt(2/lam)])\n",
        "norm_x0\n",
        "\n",
        "#T = math.log((norm_x0*norm_x0 + norm_opt*norm_opt + 2*norm_x0*norm_opt) * mu / eps)\n",
        "#N0 = math.sqrt(8 * L / mu)\n",
        "#N0\n",
        "\n",
        "R2 = (norm_x0 - norm_opt)**2\n",
        "T = math.sqrt(L   / eps)\n",
        "print(\"T, R^2, L, Lh\", T, R2, L, Lh)"
      ],
      "execution_count": 0,
      "outputs": [
        {
          "output_type": "stream",
          "text": [
            "Lh =  0.02\n",
            "T, R^2, L, Lh 3.1622776601683795 38352.96440173843 1 0.02\n"
          ],
          "name": "stdout"
        },
        {
          "output_type": "stream",
          "text": [
            "/usr/local/lib/python3.6/dist-packages/ipykernel_launcher.py:6: ComplexWarning: Casting complex values to real discards the imaginary part\n",
            "  \n"
          ],
          "name": "stderr"
        }
      ]
    },
    {
      "cell_type": "code",
      "metadata": {
        "id": "fIzSRngeJlGy",
        "colab_type": "code",
        "colab": {}
      },
      "source": [
        "N_minn = math.log(1/eps)\n",
        "N_minn\n",
        "\n",
        "N = 100"
      ],
      "execution_count": 0,
      "outputs": []
    },
    {
      "cell_type": "code",
      "metadata": {
        "id": "cbkh78kaJlG1",
        "colab_type": "code",
        "outputId": "55908004-6e92-4836-d07b-b12bbdbed396",
        "colab": {
          "base_uri": "https://localhost:8080/",
          "height": 1000
        }
      },
      "source": [
        "N1 = N\n",
        "\n",
        "before = time.time()\n",
        "N1, y1, plt1, times_MS, calls = ms_acc_prox_method(L, Lh, x0, N1, grad_h1, g1, grad_g1, f1, 1, eps, stoch_grad, h1, verbose = 0, time_scale = True)\n",
        "\n",
        "after = time.time()\n",
        "print('Answer 1: ', N1, f1(y1))\n",
        "print('Time: ', after - before)"
      ],
      "execution_count": 0,
      "outputs": [
        {
          "output_type": "stream",
          "text": [
            "1 4.293666304616343\n",
            "2 4.225820432470244\n",
            "3 4.202732020993677\n",
            "4 4.067946799782708\n",
            "5 4.007675490372908\n",
            "6 3.8753909140572005\n",
            "7 3.7490970302269213\n",
            "8 3.606662898240058\n",
            "9 2.0199827299199242\n",
            "10 0.0\n",
            "11 0.0\n",
            "12 0.0\n",
            "13 0.0\n",
            "14 1.0100000000000073\n",
            "15 2.019985447045256\n",
            "16 2.019971984130385\n",
            "17 2.019971307989398\n",
            "18 0.0\n",
            "19 0.0\n",
            "20 0.0\n",
            "21 0.0\n",
            "22 0.0\n",
            "23 0.0\n",
            "24 0.0\n",
            "25 0.0\n",
            "26 0.0\n",
            "27 0.0\n",
            "28 0.0\n",
            "29 0.0\n",
            "30 0.0\n",
            "31 0.0\n",
            "32 0.0\n",
            "33 0.0\n",
            "34 0.0\n",
            "35 0.0\n",
            "36 0.0\n",
            "37 0.0\n",
            "38 0.0\n",
            "39 0.0\n",
            "40 0.0\n",
            "41 0.0\n",
            "42 0.0\n",
            "43 0.0\n",
            "44 0.0\n",
            "45 0.0\n",
            "46 0.0\n",
            "47 0.0\n",
            "48 0.0\n",
            "49 0.0\n",
            "50 0.0\n",
            "51 0.0\n",
            "52 0.0\n",
            "53 0.0\n",
            "54 0.0\n",
            "55 0.0\n",
            "56 0.0\n",
            "57 0.0\n",
            "58 0.0\n",
            "59 0.0\n",
            "60 0.0\n",
            "61 0.0\n",
            "62 0.0\n",
            "63 0.0\n",
            "64 0.0\n",
            "65 0.0\n",
            "66 0.0\n",
            "67 0.0\n",
            "68 0.0\n",
            "69 0.0\n",
            "70 0.0\n",
            "71 0.0\n",
            "72 0.0\n",
            "73 0.0\n",
            "74 0.0\n",
            "75 0.0\n",
            "76 0.0\n",
            "77 0.0\n",
            "78 0.0\n",
            "79 0.0\n",
            "80 0.0\n",
            "81 0.0\n",
            "82 0.0\n",
            "83 0.0\n",
            "84 0.0\n",
            "85 0.0\n",
            "86 0.0\n",
            "87 0.0\n",
            "88 0.0\n",
            "89 0.0\n",
            "90 0.0\n",
            "91 0.0\n",
            "92 0.0\n",
            "93 0.0\n",
            "94 0.0\n",
            "95 0.0\n",
            "96 0.0\n",
            "97 0.0\n",
            "98 0.0\n",
            "99 0.0\n",
            "100 0.0\n",
            "Answer 1:  100 0.9137204376119296\n",
            "Time:  246.11092281341553\n"
          ],
          "name": "stdout"
        }
      ]
    },
    {
      "cell_type": "code",
      "metadata": {
        "id": "2zujaAVnJlG7",
        "colab_type": "code",
        "colab": {}
      },
      "source": [
        "def FGM(p_func, p_grad_func, x0, N=10, L=1, restart=None, return_losses=True, time_scale=False, verbose = 0, coord = 0):\n",
        "    \n",
        "    n_dim = x0.shape[0]\n",
        "    n_sam = n_dim - 1\n",
        "    \n",
        "    x = x0.copy()\n",
        "    v = x0.copy()\n",
        "    \n",
        "    A = 0\n",
        "    S = L / 2\n",
        "    \n",
        "    losses = []\n",
        "    times = []\n",
        "    calls = []\n",
        "    \n",
        "    if coord == 1:\n",
        "        time_start = time.time()\n",
        "        \n",
        "        for k in range(N):\n",
        "            a = np.roots([S, -1, -A]).max()\n",
        "            A = A + a\n",
        "            alpha = a / A\n",
        "        \n",
        "            ir = np.random.randint(0, n_sam) \n",
        "        \n",
        "            y = (1 - alpha) * x + alpha * v\n",
        "        \n",
        "            x[ir] = y[ir] - (1 / L) * p_grad_func(y)[ir]\n",
        "            v[ir] = v[ir] - a * p_grad_func(x)[ir]\n",
        "        \n",
        "            time_end = time.time() - time_start\n",
        "            if time_scale:\n",
        "                times.append(time_end)\n",
        "        \n",
        "            fx = p_func(x)\n",
        "            losses.append(fx)\n",
        "        \n",
        "            if verbose == 1:\n",
        "                print(fx)\n",
        "            \n",
        "            calls.append(2)\n",
        "                \n",
        "    else:\n",
        "        \n",
        "        time_start = time.time()\n",
        "    \n",
        "        for k in range(N):\n",
        "            a = np.roots([S, -1, -A]).max()\n",
        "            A = A + a\n",
        "            alpha = a / A\n",
        "        \n",
        "            y = (1 - alpha) * x + alpha * v\n",
        "        \n",
        "            x = y - (1 / L) * p_grad_func(y)\n",
        "            v = v - a * p_grad_func(x)\n",
        "        \n",
        "            time_end = time.time() - time_start\n",
        "            if time_scale:\n",
        "                times.append(time_end)\n",
        "        \n",
        "            fx = p_func(x)\n",
        "            losses.append(fx)\n",
        "        \n",
        "            if verbose == 1:\n",
        "                print(fx)\n",
        "            \n",
        "            calls.append(n_sam*2)\n",
        "        \n",
        "    if return_losses and time_scale:\n",
        "        return x, np.array(losses), np.array(times), calls\n",
        "    elif return_losses:\n",
        "        return x, np.array(losses)\n",
        "    else:\n",
        "        return x"
      ],
      "execution_count": 0,
      "outputs": []
    },
    {
      "cell_type": "code",
      "metadata": {
        "id": "BziuTMHXJlG_",
        "colab_type": "code",
        "colab": {}
      },
      "source": [
        "Lf = max([L, Lh])\n",
        "N2 = N\n",
        "x, losses, times_FG, calls_FG = FGM(f1, grad_f1, x0, N=N2, L= Lf, restart=None, return_losses=True, time_scale = True, verbose = 0)"
      ],
      "execution_count": 0,
      "outputs": []
    },
    {
      "cell_type": "code",
      "metadata": {
        "id": "uLCSbVklJlHC",
        "colab_type": "code",
        "colab": {}
      },
      "source": [
        "N3 = N\n",
        "x, losses_c, times_FG_c, calls_FG_c = FGM(f1, grad_f1, x0, N=N3, L= L, restart=None, return_losses=True, time_scale = True, verbose = 0, coord = 1)"
      ],
      "execution_count": 0,
      "outputs": []
    },
    {
      "cell_type": "code",
      "metadata": {
        "id": "1dEVJqYTJlHF",
        "colab_type": "code",
        "colab": {}
      },
      "source": [
        "#losses, plt1"
      ],
      "execution_count": 0,
      "outputs": []
    },
    {
      "cell_type": "code",
      "metadata": {
        "id": "uYMiwFo4JlHI",
        "colab_type": "code",
        "outputId": "fac82a6f-fbf8-4158-a9d7-9a4dffb9bfa6",
        "colab": {
          "base_uri": "https://localhost:8080/",
          "height": 284
        }
      },
      "source": [
        "%matplotlib inline\n",
        "import matplotlib.pyplot as plt\n",
        "plt.grid(True)\n",
        "plt.plot(range(1, N1 + 1), plt1, label = 'MS', ls = '-')\n",
        "plt.plot(range(1, N2 + 1), losses, label = 'FGM', ls = '--')\n",
        "#plt.plot(range(1, N3 + 1), losses_c, label = 'FGM coord', ls = '-.')\n",
        "plt.yscale('log')\n",
        "plt.xlabel(r\"Number of iterations, $N$\", fontsize=12)\n",
        "plt.ylabel(r\"Loss function (log scale)\", fontsize=12)\n",
        "plt.legend()\n",
        "plt.show()"
      ],
      "execution_count": 0,
      "outputs": [
        {
          "output_type": "display_data",
          "data": {
            "image/png": "[encoded data removed]",
            "text/plain": [
              "<Figure size 432x288 with 1 Axes>"
            ]
          },
          "metadata": {
            "tags": [],
            "needs_background": "light"
          }
        }
      ]
    },
    {
      "cell_type": "code",
      "metadata": {
        "id": "ig7x0OxjJlHL",
        "colab_type": "code",
        "outputId": "ae58a5e4-7b78-417b-dac6-0e54d6f273b7",
        "colab": {
          "base_uri": "https://localhost:8080/",
          "height": 34
        }
      },
      "source": [
        "#print(times_FG)\n",
        "#print(times_MS)\n",
        "print(plt1[-1], losses[-1])"
      ],
      "execution_count": 0,
      "outputs": [
        {
          "output_type": "stream",
          "text": [
            "0.9137204376119296 0.9683991729647988\n"
          ],
          "name": "stdout"
        }
      ]
    },
    {
      "cell_type": "code",
      "metadata": {
        "id": "gxmI1mK1JlHP",
        "colab_type": "code",
        "outputId": "e7dca9d8-4566-4496-b3fb-35e64be8c644",
        "colab": {
          "base_uri": "https://localhost:8080/",
          "height": 34
        }
      },
      "source": [
        "time_max = min(\n",
        "    times_MS[-1] - times_MS[0],\n",
        "    times_FG[-1] - times_FG[0]\n",
        ")\n",
        "ms_times_max_idx = np.searchsorted(np.array(times_MS) - times_MS[0], time_max, side=\"right\")\n",
        "fg_times_max_idx = np.searchsorted(np.array(times_FG) - times_FG[0], time_max, side=\"right\")\n",
        "print(time_max, ms_times_max_idx, fg_times_max_idx)"
      ],
      "execution_count": 0,
      "outputs": [
        {
          "output_type": "stream",
          "text": [
            "6.353379726409912 1 100\n"
          ],
          "name": "stdout"
        }
      ]
    },
    {
      "cell_type": "code",
      "metadata": {
        "id": "o9BpQ-OTJlHS",
        "colab_type": "code",
        "outputId": "a7c4fdcb-a98d-4e1f-9914-d3a8a7bfa3ed",
        "colab": {
          "base_uri": "https://localhost:8080/",
          "height": 284
        }
      },
      "source": [
        "  %matplotlib inline\n",
        "plt.semilogy((np.array(times_MS) - times_MS[0])[:ms_times_max_idx], (plt1)[:ms_times_max_idx], label=\"MS\")\n",
        "plt.semilogy(times_FG[:fg_times_max_idx], (losses)[:fg_times_max_idx], label=\"FGM\")\n",
        "\n",
        "plt.grid(linewidth=0.5)\n",
        "\n",
        "plt.xlabel(r\"Time, $T$ (s)\", fontsize=12)\n",
        "plt.ylabel(r\"Loss function (log scale)\", fontsize=12)\n",
        "plt.legend()\n",
        "plt.show()\n"
      ],
      "execution_count": 0,
      "outputs": [
        {
          "output_type": "display_data",
          "data": {
            "image/png": "[encoded data removed]",
            "text/plain": [
              "<Figure size 432x288 with 1 Axes>"
            ]
          },
          "metadata": {
            "tags": [],
            "needs_background": "light"
          }
        }
      ]
    },
    {
      "cell_type": "code",
      "metadata": {
        "id": "56qDVRvFJlHX",
        "colab_type": "code",
        "outputId": "0c77f720-e14a-4759-f208-23344ce0e544",
        "colab": {
          "base_uri": "https://localhost:8080/",
          "height": 336
        }
      },
      "source": [
        "#print(calls, calls_FG)\n",
        "n_calls = np.cumsum(calls)\n",
        "n_calls_FG = np.cumsum(calls_FG)\n",
        "print(n_calls, n_calls_FG)"
      ],
      "execution_count": 0,
      "outputs": [
        {
          "output_type": "stream",
          "text": [
            "[  4025   8050  12075  16100  20125  24150  28175  32200  36225  40250\n",
            "  44275  48300  52325  56350  60375  64400  68425  72450  76475  80500\n",
            "  84525  88550  92575  96600 100625 104650 108675 112700 116725 120750\n",
            " 124775 128800 132825 136850 140875 144900 148925 152950 156975 161000\n",
            " 165025 169050 173075 177100 181125 185150 189175 193200 197225 201250\n",
            " 205275 209300 213325 217350 221375 225400 229425 233450 237475 241500\n",
            " 245525 249550 253575 257600 261625 265650 269675 273700 277725 281750\n",
            " 285775 289800 293825 297850 301875 305900 309925 313950 317975 322000\n",
            " 326025 330050 334075 338100 342125 346150 350175 354200 358225 362250\n",
            " 366275 370300 374325 378350 382375 386400 390425 394450 398475 402500] [  2680   5360   8040  10720  13400  16080  18760  21440  24120  26800\n",
            "  29480  32160  34840  37520  40200  42880  45560  48240  50920  53600\n",
            "  56280  58960  61640  64320  67000  69680  72360  75040  77720  80400\n",
            "  83080  85760  88440  91120  93800  96480  99160 101840 104520 107200\n",
            " 109880 112560 115240 117920 120600 123280 125960 128640 131320 134000\n",
            " 136680 139360 142040 144720 147400 150080 152760 155440 158120 160800\n",
            " 163480 166160 168840 171520 174200 176880 179560 182240 184920 187600\n",
            " 190280 192960 195640 198320 201000 203680 206360 209040 211720 214400\n",
            " 217080 219760 222440 225120 227800 230480 233160 235840 238520 241200\n",
            " 243880 246560 249240 251920 254600 257280 259960 262640 265320 268000]\n"
          ],
          "name": "stdout"
        }
      ]
    },
    {
      "cell_type": "code",
      "metadata": {
        "id": "hO4-L0flJlHa",
        "colab_type": "code",
        "outputId": "ac2efe53-9f79-4cf1-848b-1d82c0a93f5b",
        "colab": {
          "base_uri": "https://localhost:8080/",
          "height": 34
        }
      },
      "source": [
        "o_max = min(\n",
        "    n_calls[-1],\n",
        "    n_calls_FG[-1]\n",
        ")\n",
        "ms_idx = np.searchsorted(np.array(n_calls), o_max, side=\"right\")\n",
        "fg_idx = np.searchsorted(np.array(n_calls_FG), o_max, side=\"right\")\n",
        "print(o_max, ms_idx, fg_idx)"
      ],
      "execution_count": 0,
      "outputs": [
        {
          "output_type": "stream",
          "text": [
            "268000 66 100\n"
          ],
          "name": "stdout"
        }
      ]
    },
    {
      "cell_type": "code",
      "metadata": {
        "id": "m6Q6MalOJlHf",
        "colab_type": "code",
        "outputId": "56c7ed76-041b-4f18-8bd6-3c51058664c2",
        "colab": {
          "base_uri": "https://localhost:8080/",
          "height": 282
        }
      },
      "source": [
        "%matplotlib inline\n",
        "plt.semilogy((np.array(n_calls))[:ms_idx], (plt1)[:ms_idx], label=\"MS\", ls='-')\n",
        "plt.semilogy(n_calls_FG[:fg_idx], (losses)[:fg_idx], label=\"FGM\", ls = '--')\n",
        "\n",
        "plt.grid(linewidth=0.5)\n",
        "\n",
        "plt.xlabel(r\"Oracle calls\", fontsize=12)\n",
        "plt.ylabel(r\"Loss function (log scale)\", fontsize=12)\n",
        "plt.legend()\n",
        "plt.show()\n"
      ],
      "execution_count": 0,
      "outputs": [
        {
          "output_type": "display_data",
          "data": {
            "image/png": "[encoded data removed]",
            "text/plain": [
              "<Figure size 432x288 with 1 Axes>"
            ]
          },
          "metadata": {
            "tags": [],
            "needs_background": "light"
          }
        }
      ]
    },
    {
      "cell_type": "code",
      "metadata": {
        "id": "AqLmlvSiNokG",
        "colab_type": "code",
        "colab": {}
      },
      "source": [
        ""
      ],
      "execution_count": 0,
      "outputs": []
    }
  ]
}